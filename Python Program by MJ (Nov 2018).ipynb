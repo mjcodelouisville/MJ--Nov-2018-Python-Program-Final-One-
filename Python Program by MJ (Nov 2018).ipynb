{
 "cells": [
  {
   "cell_type": "markdown",
   "metadata": {},
   "source": [
    "# Python Course Project of MJ- Nov 2018"
   ]
  },
  {
   "cell_type": "code",
   "execution_count": 1,
   "metadata": {
    "scrolled": true
   },
   "outputs": [
    {
     "name": "stdout",
     "output_type": "stream",
     "text": [
      "SQLite Version is: 3.21.0\n",
      "DB-API Version is: 2.6.0\n"
     ]
    },
    {
     "ename": "FileNotFoundError",
     "evalue": "[Errno 2] No such file or directory: 'PythonMJ.csv'",
     "output_type": "error",
     "traceback": [
      "\u001b[1;31m---------------------------------------------------------------------------\u001b[0m",
      "\u001b[1;31mFileNotFoundError\u001b[0m                         Traceback (most recent call last)",
      "\u001b[1;32m<ipython-input-1-9c6ccaf857de>\u001b[0m in \u001b[0;36m<module>\u001b[1;34m()\u001b[0m\n\u001b[0;32m     10\u001b[0m \u001b[0mc\u001b[0m\u001b[1;33m.\u001b[0m\u001b[0mexecute\u001b[0m\u001b[1;33m(\u001b[0m\u001b[1;34m'''CREATE TABLE PythonMJ(TICKER, Company, T_Assets, T_Liabilities, Debt, Intangible_Assets, Equity, Debt_covered_by_Equity, Marketable_Assets, Marketable_Equity, Debt_covered_by_Marketable_Equity)'''\u001b[0m\u001b[1;33m)\u001b[0m\u001b[1;33m\u001b[0m\u001b[0m\n\u001b[0;32m     11\u001b[0m \u001b[1;33m\u001b[0m\u001b[0m\n\u001b[1;32m---> 12\u001b[1;33m \u001b[1;32mwith\u001b[0m \u001b[0mopen\u001b[0m\u001b[1;33m(\u001b[0m\u001b[1;34m'PythonMJ.csv'\u001b[0m\u001b[1;33m,\u001b[0m \u001b[1;34m'r'\u001b[0m\u001b[1;33m)\u001b[0m \u001b[1;32mas\u001b[0m \u001b[0mPythonMJ_table\u001b[0m\u001b[1;33m:\u001b[0m\u001b[1;33m\u001b[0m\u001b[0m\n\u001b[0m\u001b[0;32m     13\u001b[0m     \u001b[0mdr\u001b[0m \u001b[1;33m=\u001b[0m \u001b[0mcsv\u001b[0m\u001b[1;33m.\u001b[0m\u001b[0mDictReader\u001b[0m\u001b[1;33m(\u001b[0m\u001b[0mPythonMJ_table\u001b[0m\u001b[1;33m)\u001b[0m\u001b[1;33m\u001b[0m\u001b[0m\n\u001b[0;32m     14\u001b[0m     \u001b[0mto_db\u001b[0m \u001b[1;33m=\u001b[0m \u001b[1;33m[\u001b[0m\u001b[1;33m(\u001b[0m\u001b[0mi\u001b[0m\u001b[1;33m[\u001b[0m\u001b[1;34m'TICKER'\u001b[0m\u001b[1;33m]\u001b[0m\u001b[1;33m,\u001b[0m \u001b[0mi\u001b[0m\u001b[1;33m[\u001b[0m\u001b[1;34m'Company'\u001b[0m\u001b[1;33m]\u001b[0m\u001b[1;33m,\u001b[0m \u001b[0mi\u001b[0m\u001b[1;33m[\u001b[0m\u001b[1;34m'T_Assets'\u001b[0m\u001b[1;33m]\u001b[0m\u001b[1;33m,\u001b[0m \u001b[0mi\u001b[0m\u001b[1;33m[\u001b[0m\u001b[1;34m'T_Liabilities'\u001b[0m\u001b[1;33m]\u001b[0m\u001b[1;33m,\u001b[0m \u001b[0mi\u001b[0m\u001b[1;33m[\u001b[0m\u001b[1;34m'Debt'\u001b[0m\u001b[1;33m]\u001b[0m\u001b[1;33m,\u001b[0m \u001b[0mi\u001b[0m\u001b[1;33m[\u001b[0m\u001b[1;34m'Intangible_Assets'\u001b[0m\u001b[1;33m]\u001b[0m\u001b[1;33m,\u001b[0m \u001b[0mi\u001b[0m\u001b[1;33m[\u001b[0m\u001b[1;34m'Equity'\u001b[0m\u001b[1;33m]\u001b[0m\u001b[1;33m,\u001b[0m \u001b[0mi\u001b[0m\u001b[1;33m[\u001b[0m\u001b[1;34m'Debt_covered_by_Equity'\u001b[0m\u001b[1;33m]\u001b[0m\u001b[1;33m,\u001b[0m \u001b[0mi\u001b[0m\u001b[1;33m[\u001b[0m\u001b[1;34m'Marketable_Assets'\u001b[0m\u001b[1;33m]\u001b[0m\u001b[1;33m,\u001b[0m \u001b[0mi\u001b[0m\u001b[1;33m[\u001b[0m\u001b[1;34m'Marketable_Equity'\u001b[0m\u001b[1;33m]\u001b[0m\u001b[1;33m,\u001b[0m \u001b[0mi\u001b[0m\u001b[1;33m[\u001b[0m\u001b[1;34m'Debt_covered_by_Marketable_Equity'\u001b[0m\u001b[1;33m]\u001b[0m\u001b[1;33m)\u001b[0m \u001b[1;32mfor\u001b[0m \u001b[0mi\u001b[0m \u001b[1;32min\u001b[0m \u001b[0mdr\u001b[0m\u001b[1;33m]\u001b[0m\u001b[1;33m\u001b[0m\u001b[0m\n",
      "\u001b[1;31mFileNotFoundError\u001b[0m: [Errno 2] No such file or directory: 'PythonMJ.csv'"
     ]
    }
   ],
   "source": [
    "import sqlite3\n",
    "import pandas as pd\n",
    "import csv\n",
    "print(\"SQLite Version is:\", sqlite3.sqlite_version)\n",
    "print(\"DB-API Version is:\", sqlite3.version)\n",
    "\n",
    "db = sqlite3.connect(\"Python_project.db\")\n",
    "c = db.cursor()\n",
    "c.execute('''DROP TABLE IF EXISTS [PythonMJ]''')\n",
    "c.execute('''CREATE TABLE PythonMJ(TICKER, Company, T_Assets, T_Liabilities, Debt, Intangible_Assets, Equity, Debt_covered_by_Equity, Marketable_Assets, Marketable_Equity, Debt_covered_by_Marketable_Equity)''')\n",
    "\n",
    "with open('PythonMJ.csv', 'r') as PythonMJ_table:\n",
    "    dr = csv.DictReader(PythonMJ_table)\n",
    "    to_db = [(i['TICKER'], i['Company'], i['T_Assets'], i['T_Liabilities'], i['Debt'], i['Intangible_Assets'], i['Equity'], i['Debt_covered_by_Equity'], i['Marketable_Assets'], i['Marketable_Equity'], i['Debt_covered_by_Marketable_Equity']) for i in dr]\n",
    "\n",
    "c.executemany(\"INSERT INTO PythonMJ (TICKER, Company, T_Assets, T_Liabilities, Debt, Intangible_Assets, Equity, Debt_covered_by_Equity, Marketable_Assets, Marketable_Equity, Debt_covered_by_Marketable_Equity) VALUES (?, ?, ?, ?, ?, ?, ?, ?, ?, ?, ?);\", to_db)\n",
    "db.commit()"
   ]
  },
  {
   "cell_type": "code",
   "execution_count": null,
   "metadata": {
    "scrolled": false
   },
   "outputs": [],
   "source": [
    "db = sqlite3.connect(\"Python_project.db\")\n",
    "c = db.cursor()\n",
    "\n",
    "sql_plt = '''SELECT * FROM PythonMJ'''\n",
    "plt = pd.read_sql_query(sql_plt, db)\n",
    "\n",
    "db.commit()\n",
    "\n"
   ]
  },
  {
   "cell_type": "code",
   "execution_count": null,
   "metadata": {},
   "outputs": [],
   "source": [
    "db = sqlite3.connect(\"Python_project.db\")\n",
    "c = db.cursor()\n",
    "\n",
    "c.execute('''UPDATE PythonMJ SET Equity = T_Assets - T_Liabilities''')\n",
    "\n",
    "\n",
    "db.commit()\n",
    "db.close()"
   ]
  },
  {
   "cell_type": "code",
   "execution_count": null,
   "metadata": {},
   "outputs": [],
   "source": [
    "db = sqlite3.connect(\"Python_project.db\")\n",
    "c = db.cursor()\n",
    "\n",
    "c.execute('''UPDATE PythonMJ SET Debt_covered_by_Equity = Debt / Equity''')\n",
    "\n",
    "db.commit()\n",
    "db.close()"
   ]
  },
  {
   "cell_type": "code",
   "execution_count": null,
   "metadata": {},
   "outputs": [],
   "source": [
    "db = sqlite3.connect(\"Python_project.db\")\n",
    "c = db.cursor()\n",
    "\n",
    "c.execute('''UPDATE PythonMJ SET Marketable_Assets = T_Assets - Intangible_Assets''')\n",
    "\n",
    "db.commit()    \n",
    "db.close()"
   ]
  },
  {
   "cell_type": "code",
   "execution_count": null,
   "metadata": {},
   "outputs": [],
   "source": [
    "db = sqlite3.connect(\"Python_project.db\")\n",
    "c = db.cursor()\n",
    "\n",
    "c.execute('''UPDATE PythonMJ SET Marketable_Equity = Marketable_Assets - T_Liabilities''')\n",
    "\n",
    "db.commit()\n",
    "db.close()"
   ]
  },
  {
   "cell_type": "code",
   "execution_count": null,
   "metadata": {},
   "outputs": [],
   "source": [
    "db = sqlite3.connect(\"Python_project.db\")\n",
    "c = db.cursor()\n",
    "\n",
    "c.execute('''UPDATE PythonMJ SET Debt_covered_by_Marketable_Equity = round(Debt*1.0 / Marketable_Equity, 2)''')\n",
    "\n",
    "db.commit()\n",
    "db.close()"
   ]
  },
  {
   "cell_type": "code",
   "execution_count": null,
   "metadata": {},
   "outputs": [],
   "source": []
  }
 ],
 "metadata": {
  "celltoolbar": "Tags",
  "kernelspec": {
   "display_name": "Python 3",
   "language": "python",
   "name": "python3"
  },
  "language_info": {
   "codemirror_mode": {
    "name": "ipython",
    "version": 3
   },
   "file_extension": ".py",
   "mimetype": "text/x-python",
   "name": "python",
   "nbconvert_exporter": "python",
   "pygments_lexer": "ipython3",
   "version": "3.6.4"
  }
 },
 "nbformat": 4,
 "nbformat_minor": 2
}
